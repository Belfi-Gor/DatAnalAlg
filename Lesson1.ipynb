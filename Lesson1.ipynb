{
 "cells": [
  {
   "cell_type": "code",
   "execution_count": 1,
   "metadata": {
    "colab": {},
    "colab_type": "code",
    "id": "ak8b3KV45kVW"
   },
   "outputs": [],
   "source": [
    "import numpy as np\n",
    "import matplotlib.pyplot as plt"
   ]
  },
  {
   "cell_type": "code",
   "execution_count": 2,
   "metadata": {
    "colab": {},
    "colab_type": "code",
    "id": "i77tZbAd5plB"
   },
   "outputs": [],
   "source": [
    "X = np.array([[1, 1, 1, 1, 1, 1, 1, 1, 1, 1],\n",
    "              [1, 1, 2, 1, 3, 0, 5, 10, 1, 2]])"
   ]
  },
  {
   "cell_type": "code",
   "execution_count": 3,
   "metadata": {
    "colab": {
     "base_uri": "https://localhost:8080/",
     "height": 52
    },
    "colab_type": "code",
    "id": "U3vVuLOc6Us6",
    "outputId": "c82f208a-0d9c-460a-96c8-24ab0a036e9d"
   },
   "outputs": [
    {
     "data": {
      "text/plain": [
       "array([[ 1,  1,  1,  1,  1,  1,  1,  1,  1,  1],\n",
       "       [ 1,  1,  2,  1,  3,  0,  5, 10,  1,  2]])"
      ]
     },
     "execution_count": 3,
     "metadata": {},
     "output_type": "execute_result"
    }
   ],
   "source": [
    "X"
   ]
  },
  {
   "cell_type": "code",
   "execution_count": 4,
   "metadata": {
    "colab": {},
    "colab_type": "code",
    "id": "VsNrKi1Q6Wmh"
   },
   "outputs": [],
   "source": [
    "y = [45, 55, 50, 59, 65, 35, 75, 80, 50, 60]"
   ]
  },
  {
   "cell_type": "code",
   "execution_count": 5,
   "metadata": {
    "colab": {
     "base_uri": "https://localhost:8080/",
     "height": 283
    },
    "colab_type": "code",
    "id": "ejifaMBe6VaP",
    "outputId": "0af4e70a-5164-4c12-f35f-1c065d4b80c1"
   },
   "outputs": [
    {
     "data": {
      "text/plain": [
       "[<matplotlib.lines.Line2D at 0x7f42bf2f9b70>]"
      ]
     },
     "execution_count": 5,
     "metadata": {},
     "output_type": "execute_result"
    },
    {
     "data": {
      "image/png": "[encoded data removed]",
      "text/plain": [
       "<Figure size 432x288 with 1 Axes>"
      ]
     },
     "metadata": {
      "needs_background": "light"
     },
     "output_type": "display_data"
    }
   ],
   "source": [
    "plt.scatter(X[1,:], y)\n",
    "plt.plot(X[1,:], 50 + 4*X[1,:])"
   ]
  },
  {
   "cell_type": "code",
   "execution_count": 6,
   "metadata": {
    "colab": {
     "base_uri": "https://localhost:8080/",
     "height": 283
    },
    "colab_type": "code",
    "id": "OTikrodr6n-i",
    "outputId": "3e8a4b8e-6cfe-49eb-8963-2bf9170f9a49"
   },
   "outputs": [
    {
     "data": {
      "text/plain": [
       "[<matplotlib.lines.Line2D at 0x7f42bea67390>]"
      ]
     },
     "execution_count": 6,
     "metadata": {},
     "output_type": "execute_result"
    },
    {
     "data": {
      "image/png": "[encoded data removed]",
      "text/plain": [
       "<Figure size 432x288 with 1 Axes>"
      ]
     },
     "metadata": {
      "needs_background": "light"
     },
     "output_type": "display_data"
    }
   ],
   "source": [
    "plt.scatter(X[1], y)\n",
    "plt.plot(X[1], 35*np.ones(10) + X[1]*5)\n",
    "plt.plot(X[1], 40*np.ones(10) + X[1]*7.5)"
   ]
  },
  {
   "cell_type": "code",
   "execution_count": 7,
   "metadata": {
    "colab": {},
    "colab_type": "code",
    "id": "NntLxvtU7CbH"
   },
   "outputs": [],
   "source": [
    "y_pred1 = 35*np.ones(10) + X[1]*5\n",
    "y_pred2 = 40*np.ones(10) + X[1]*7.5"
   ]
  },
  {
   "cell_type": "code",
   "execution_count": 8,
   "metadata": {
    "colab": {
     "base_uri": "https://localhost:8080/",
     "height": 52
    },
    "colab_type": "code",
    "id": "XsDNASCq9VBe",
    "outputId": "205674a3-5567-4805-fdfe-27211a7ee87c"
   },
   "outputs": [
    {
     "data": {
      "text/plain": [
       "array([ 47.5,  47.5,  55. ,  47.5,  62.5,  40. ,  77.5, 115. ,  47.5,\n",
       "        55. ])"
      ]
     },
     "execution_count": 8,
     "metadata": {},
     "output_type": "execute_result"
    }
   ],
   "source": [
    "y_pred2"
   ]
  },
  {
   "cell_type": "code",
   "execution_count": 9,
   "metadata": {
    "colab": {},
    "colab_type": "code",
    "id": "zbsqjAxH9WqI"
   },
   "outputs": [],
   "source": [
    "err1 = np.mean(y - y_pred1)\n",
    "err2 = np.mean(y - y_pred2)"
   ]
  },
  {
   "cell_type": "code",
   "execution_count": 10,
   "metadata": {
    "colab": {
     "base_uri": "https://localhost:8080/",
     "height": 34
    },
    "colab_type": "code",
    "id": "Axgh3H5y9dgg",
    "outputId": "a8c6f684-c837-4172-b133-9898c83e9422"
   },
   "outputs": [
    {
     "data": {
      "text/plain": [
       "(9.4, -2.1)"
      ]
     },
     "execution_count": 10,
     "metadata": {},
     "output_type": "execute_result"
    }
   ],
   "source": [
    "err1, err2"
   ]
  },
  {
   "cell_type": "code",
   "execution_count": 11,
   "metadata": {
    "colab": {},
    "colab_type": "code",
    "id": "vUqCthPf9eYI"
   },
   "outputs": [],
   "source": [
    "mae_1 = np.mean(np.abs(y - y_pred1))\n",
    "mae_2 = np.mean(np.abs(y - y_pred2))"
   ]
  },
  {
   "cell_type": "code",
   "execution_count": 12,
   "metadata": {
    "colab": {
     "base_uri": "https://localhost:8080/",
     "height": 34
    },
    "colab_type": "code",
    "id": "AmiioF1Y_CUu",
    "outputId": "88c36476-2401-4198-f54d-41c44ffb6a61"
   },
   "outputs": [
    {
     "data": {
      "text/plain": [
       "(10.4, 7.9)"
      ]
     },
     "execution_count": 12,
     "metadata": {},
     "output_type": "execute_result"
    }
   ],
   "source": [
    "mae_1, mae_2"
   ]
  },
  {
   "cell_type": "code",
   "execution_count": 13,
   "metadata": {
    "colab": {},
    "colab_type": "code",
    "id": "XTn2bZIg_EBS"
   },
   "outputs": [],
   "source": [
    "mse_1 = np.mean((y - y_pred1)**2)\n",
    "mse_2 = np.mean((y - y_pred2)**2)"
   ]
  },
  {
   "cell_type": "code",
   "execution_count": 14,
   "metadata": {
    "colab": {
     "base_uri": "https://localhost:8080/",
     "height": 34
    },
    "colab_type": "code",
    "id": "IB1ltZNE_gCI",
    "outputId": "6b5c1307-38fb-4a1e-d479-6adb925ed796"
   },
   "outputs": [
    {
     "data": {
      "text/plain": [
       "(143.6, 151.35)"
      ]
     },
     "execution_count": 14,
     "metadata": {},
     "output_type": "execute_result"
    }
   ],
   "source": [
    "mse_1, mse_2"
   ]
  },
  {
   "cell_type": "markdown",
   "metadata": {
    "colab_type": "text",
    "id": "R4zHyZ2Da5HV"
   },
   "source": [
    "Метод наименьших квадратов"
   ]
  },
  {
   "cell_type": "code",
   "execution_count": 15,
   "metadata": {
    "colab": {
     "base_uri": "https://localhost:8080/",
     "height": 34
    },
    "colab_type": "code",
    "id": "GEeiext0BR1m",
    "outputId": "0decd1d1-384b-45ab-c63a-87013abc78eb"
   },
   "outputs": [
    {
     "data": {
      "text/plain": [
       "(2, 10)"
      ]
     },
     "execution_count": 15,
     "metadata": {},
     "output_type": "execute_result"
    }
   ],
   "source": [
    "X.shape"
   ]
  },
  {
   "cell_type": "code",
   "execution_count": 16,
   "metadata": {
    "colab": {
     "base_uri": "https://localhost:8080/",
     "height": 34
    },
    "colab_type": "code",
    "id": "j1BN1FZHBVo8",
    "outputId": "00ffcab8-b938-431f-cf87-68ef099c7bc1"
   },
   "outputs": [
    {
     "data": {
      "text/plain": [
       "(10, 2)"
      ]
     },
     "execution_count": 16,
     "metadata": {},
     "output_type": "execute_result"
    }
   ],
   "source": [
    "X.T.shape"
   ]
  },
  {
   "cell_type": "code",
   "execution_count": 17,
   "metadata": {
    "colab": {
     "base_uri": "https://localhost:8080/",
     "height": 34
    },
    "colab_type": "code",
    "id": "mnyZzkaDBegD",
    "outputId": "368800a6-deef-46d0-b27f-d6eb5e46a743"
   },
   "outputs": [
    {
     "data": {
      "text/plain": [
       "array([47.23214286,  3.91071429])"
      ]
     },
     "execution_count": 17,
     "metadata": {},
     "output_type": "execute_result"
    }
   ],
   "source": [
    "W = np.linalg.inv(np.dot(X, X.T)) @ X @ y\n",
    "W"
   ]
  },
  {
   "cell_type": "code",
   "execution_count": 18,
   "metadata": {
    "colab": {
     "base_uri": "https://localhost:8080/",
     "height": 282
    },
    "colab_type": "code",
    "id": "Lyg-J3H7Bnv5",
    "outputId": "7701dd28-d123-4773-cd1f-1439abfb6d90"
   },
   "outputs": [
    {
     "data": {
      "text/plain": [
       "[<matplotlib.lines.Line2D at 0x7f42be9ed6a0>]"
      ]
     },
     "execution_count": 18,
     "metadata": {},
     "output_type": "execute_result"
    },
    {
     "data": {
      "image/png": "[encoded data removed]",
      "text/plain": [
       "<Figure size 432x288 with 1 Axes>"
      ]
     },
     "metadata": {
      "needs_background": "light"
     },
     "output_type": "display_data"
    }
   ],
   "source": [
    "plt.scatter(X[1], y)\n",
    "plt.plot(X[1], 35*np.ones(10) + X[1]*5)\n",
    "plt.plot(X[1], 40*np.ones(10) + X[1]*7.5)\n",
    "plt.plot(X[1], W[0] + W[1] * X[1])"
   ]
  },
  {
   "cell_type": "code",
   "execution_count": 19,
   "metadata": {
    "colab": {},
    "colab_type": "code",
    "id": "JTSC2cFnCd8T"
   },
   "outputs": [],
   "source": [
    "def calc_mse(y, y_pred):\n",
    "  err = np.mean((y - y_pred)**2)\n",
    "  return err"
   ]
  },
  {
   "cell_type": "code",
   "execution_count": 20,
   "metadata": {
    "colab": {
     "base_uri": "https://localhost:8080/",
     "height": 34
    },
    "colab_type": "code",
    "id": "MYSrwISJDGfS",
    "outputId": "891bfd3a-142c-466c-a9d9-7ebfb303e86c"
   },
   "outputs": [
    {
     "data": {
      "text/plain": [
       "143.6"
      ]
     },
     "execution_count": 20,
     "metadata": {},
     "output_type": "execute_result"
    }
   ],
   "source": [
    "calc_mse(y, y_pred1)"
   ]
  },
  {
   "cell_type": "code",
   "execution_count": 21,
   "metadata": {
    "colab": {},
    "colab_type": "code",
    "id": "BoU7Rm_1DPQq"
   },
   "outputs": [],
   "source": [
    "def calc_mae(y, y_pred):\n",
    "  err = np.mean(np.abs(y - y_pred))\n",
    "  return err"
   ]
  },
  {
   "cell_type": "code",
   "execution_count": 22,
   "metadata": {
    "colab": {
     "base_uri": "https://localhost:8080/",
     "height": 34
    },
    "colab_type": "code",
    "id": "AaE_x_nCDW3x",
    "outputId": "74189131-5508-4ba0-a346-42b2ba6ef418"
   },
   "outputs": [
    {
     "data": {
      "text/plain": [
       "10.4"
      ]
     },
     "execution_count": 22,
     "metadata": {},
     "output_type": "execute_result"
    }
   ],
   "source": [
    "calc_mae(y, y_pred1)"
   ]
  },
  {
   "cell_type": "code",
   "execution_count": 23,
   "metadata": {
    "colab": {
     "base_uri": "https://localhost:8080/",
     "height": 50
    },
    "colab_type": "code",
    "id": "Yxo6vu3NDaTC",
    "outputId": "7e152226-fe88-4e14-ebee-1501abb61966"
   },
   "outputs": [
    {
     "data": {
      "text/plain": [
       "array([51.14285714, 51.14285714, 55.05357143, 51.14285714, 58.96428571,\n",
       "       47.23214286, 66.78571429, 86.33928571, 51.14285714, 55.05357143])"
      ]
     },
     "execution_count": 23,
     "metadata": {},
     "output_type": "execute_result"
    }
   ],
   "source": [
    "y_pred3 = W[0] + W[1] * X[1]\n",
    "y_pred3"
   ]
  },
  {
   "cell_type": "code",
   "execution_count": 24,
   "metadata": {
    "colab": {
     "base_uri": "https://localhost:8080/",
     "height": 34
    },
    "colab_type": "code",
    "id": "_WtO6lvhDmQ6",
    "outputId": "8de8b895-85d8-448e-f565-b70e93a5dd25"
   },
   "outputs": [
    {
     "data": {
      "text/plain": [
       "45.93749999999999"
      ]
     },
     "execution_count": 24,
     "metadata": {},
     "output_type": "execute_result"
    }
   ],
   "source": [
    "calc_mse(y, y_pred3)"
   ]
  },
  {
   "cell_type": "code",
   "execution_count": 25,
   "metadata": {
    "colab": {
     "base_uri": "https://localhost:8080/",
     "height": 34
    },
    "colab_type": "code",
    "id": "ul3IEwWlDp-e",
    "outputId": "7567da7c-ce56-4eaa-8c90-9979ca755b4d"
   },
   "outputs": [
    {
     "data": {
      "text/plain": [
       "6.182142857142856"
      ]
     },
     "execution_count": 25,
     "metadata": {},
     "output_type": "execute_result"
    }
   ],
   "source": [
    "calc_mae(y, y_pred3)"
   ]
  },
  {
   "cell_type": "markdown",
   "metadata": {
    "colab_type": "text",
    "id": "JAOgIXLRa--g"
   },
   "source": [
    "Градиентный спуск"
   ]
  },
  {
   "cell_type": "code",
   "execution_count": 26,
   "metadata": {
    "colab": {},
    "colab_type": "code",
    "id": "DNebwUP7Fd8F"
   },
   "outputs": [],
   "source": [
    "n = 10\n",
    "f = 1/n * np.sum((W[0] * X[0] - y)**2)"
   ]
  },
  {
   "cell_type": "code",
   "execution_count": 27,
   "metadata": {
    "colab": {},
    "colab_type": "code",
    "id": "5DKkvmkwHdOx"
   },
   "outputs": [],
   "source": [
    "alpha = 1e-8\n",
    "g = alpha * (1/n * 2 * np.sum(X[0] * (W[0] * X[0] - y)))"
   ]
  },
  {
   "cell_type": "code",
   "execution_count": 28,
   "metadata": {
    "colab": {
     "base_uri": "https://localhost:8080/",
     "height": 34
    },
    "colab_type": "code",
    "id": "ZVRCF5P2MYI6",
    "outputId": "0b0e2f05-a23c-4bf8-f37d-b4240d2e0af0"
   },
   "outputs": [
    {
     "data": {
      "text/plain": [
       "47.23214306050001"
      ]
     },
     "execution_count": 28,
     "metadata": {},
     "output_type": "execute_result"
    }
   ],
   "source": [
    "W[0] - g\n"
   ]
  },
  {
   "cell_type": "markdown",
   "metadata": {
    "colab_type": "text",
    "id": "huXrhXQsZTMt"
   },
   "source": [
    "1. Подберите скорость обучения (alpha) и количество итераций:"
   ]
  },
  {
   "cell_type": "code",
   "execution_count": 29,
   "metadata": {
    "colab": {
     "base_uri": "https://localhost:8080/",
     "height": 34
    },
    "colab_type": "code",
    "id": "VEXjDozNHdAo",
    "outputId": "7d12bb79-21b7-43fb-fd8e-d116a2af3bb7"
   },
   "outputs": [
    {
     "data": {
      "text/plain": [
       "(array([1. , 0.5]), 0.05)"
      ]
     },
     "execution_count": 29,
     "metadata": {},
     "output_type": "execute_result"
    }
   ],
   "source": [
    "n = X.shape[1]\n",
    "alpha = 0.05\n",
    "W = np.array([1, 0.5])\n",
    "W, alpha"
   ]
  },
  {
   "cell_type": "code",
   "execution_count": 30,
   "metadata": {},
   "outputs": [],
   "source": [
    "\n",
    "#     print(alpha/10000)\n",
    "\n"
   ]
  },
  {
   "cell_type": "code",
   "execution_count": 31,
   "metadata": {
    "colab": {
     "base_uri": "https://localhost:8080/",
     "height": 185
    },
    "colab_type": "code",
    "id": "IDB22MQKMYaJ",
    "outputId": "4c03219e-a57c-4583-f439-6699fd0619bb",
    "scrolled": false
   },
   "outputs": [
    {
     "name": "stdout",
     "output_type": "stream",
     "text": [
      "Текущий результат: (0.0001, array([38.33704846,  5.55326151]), 88.48410228286977)\n",
      "Текущий результат: (0.0002, array([42.03339217,  4.87070337]), 60.473739567922834)\n",
      "Текущий результат: (0.0003, array([43.1968407,  4.6558637]), 54.697347536400684)\n",
      "Текущий результат: (0.0004, array([43.81762131,  4.54123181]), 52.21077735874286)\n",
      "Текущий результат: (0.0005, array([44.22022144,  4.46688862]), 50.81966443959937)\n",
      "Текущий результат: (0.0006, array([44.50709891,  4.4139145 ]), 49.9347611107609)\n",
      "Текущий результат: (0.0007, array([44.72504204,  4.37366963]), 49.32164893554183)\n",
      "Текущий результат: (0.0008, array([44.89903045,  4.34154134]), 48.868849361730355)\n",
      "Текущий результат: (0.0009, array([45.04008168,  4.31549515]), 48.52566519052989)\n",
      "Текущий результат: (0.001, array([45.15929201,  4.29348205]), 48.25229833675777)\n",
      "Текущий результат: (0.0011, array([45.26180794,  4.2745517 ]), 48.029432050382574)\n",
      "Текущий результат: (0.0012, array([45.34949531,  4.25835956]), 47.84777517862378)\n",
      "Текущий результат: (0.0013, array([45.42541055,  4.24434123]), 47.69718908748659)\n",
      "Текущий результат: (0.0014, array([45.49465998,  4.23155379]), 47.56522049173387)\n",
      "Текущий результат: (0.0015, array([45.55621212,  4.22018772]), 47.452251344206026)\n",
      "Текущий результат: (0.0016, array([45.61120999,  4.21003194]), 47.354760646798546)\n",
      "Текущий результат: (0.0017, array([45.66146897,  4.20075123]), 47.26851267014596)\n",
      "Текущий результат: (0.0018, array([45.70732074,  4.19228435]), 47.192197360494895)\n",
      "Текущий результат: (0.0019, array([45.74782729,  4.18480451]), 47.1266690404265)\n",
      "Текущий результат: (0.002, array([45.78696103,  4.17757816]), 47.06502606006779)\n",
      "Текущий результат: (0.0021, array([45.8252134 ,  4.17051457]), 47.00634998742432)\n",
      "Текущий результат: (0.0022, array([45.85616919,  4.16479835]), 46.96004605260566)\n",
      "Текущий результат: (0.0023, array([45.88840684,  4.15884542]), 46.91289623460444)\n",
      "Текущий результат: (0.0024, array([45.91770477,  4.15343533]), 46.87102072460925)\n",
      "Текущий результат: (0.0025, array([45.94583129,  4.14824156]), 46.831683370560754)\n",
      "Текущий результат: (0.0026, array([45.97099745,  4.14359443]), 46.79721621134503)\n",
      "Текущий результат: (0.0027, array([45.99451454,  4.13925182]), 46.76562487340601)\n",
      "Текущий результат: (0.0028, array([46.01759549,  4.13498975]), 46.735191275339595)\n",
      "Текущий результат: (0.0029, array([46.04136488,  4.13060055]), 46.7044341894467)\n",
      "Текущий результат: (0.003, array([46.05955391,  4.1272418 ]), 46.68133856834821)\n",
      "Текущий результат: (0.0031, array([46.08022952,  4.1234239 ]), 46.655488215733385)\n",
      "Текущий результат: (0.0032, array([46.10054267,  4.11967292]), 46.63053366607499)\n",
      "Текущий результат: (0.0033, array([46.11736909,  4.11656579]), 46.61021702052523)\n",
      "Текущий результат: (0.0034, array([46.13509034,  4.11329343]), 46.589135002922035)\n",
      "Текущий результат: (0.0035, array([46.15039282,  4.11046771]), 46.571215083800894)\n",
      "Текущий результат: (0.0036, array([46.16370406,  4.10800968]), 46.555844002966225)\n",
      "Текущий результат: (0.0037, array([46.1794881 ,  4.10509504]), 46.537834667896014)\n",
      "Текущий результат: (0.0038, array([46.19417583,  4.10238284]), 46.52132043670424)\n",
      "Текущий результат: (0.0039, array([46.20812681,  4.09980668]), 46.50585067810623)\n",
      "Текущий результат: (0.004, array([46.22168116,  4.09730377]), 46.49101991861606)\n",
      "Текущий результат: (0.0041, array([46.23516138,  4.09481454]), 46.47646233217121)\n",
      "Текущий результат: (0.0042, array([46.24887309,  4.09228257]), 46.46184884033114)\n",
      "Текущий результат: (0.0043, array([46.2587527 ,  4.09045822]), 46.45147211582567)\n",
      "Текущий результат: (0.0044, array([46.26933712,  4.08850373]), 46.440460317278855)\n",
      "Текущий результат: (0.0045, array([46.28089871,  4.08636879]), 46.4285560989361)\n",
      "Текущий результат: (0.0046, array([46.29369304,  4.08400622]), 46.415535306475675)\n",
      "Текущий результат: (0.0047, array([46.30341701,  4.08221062]), 46.40577791977401)\n",
      "Текущий результат: (0.0048, array([46.31476412,  4.08011529]), 46.39450054785256)\n",
      "Текущий результат: (0.0049, array([46.32332494,  4.07853447]), 46.3861047935664)\n",
      "Текущий результат: (0.005, array([46.3338693 ,  4.07658737]), 46.375847120137124)\n",
      "Текущий результат: (0.0051, array([46.34188252,  4.07510767]), 46.36815130387511)\n",
      "Текущий результат: (0.0052, array([46.35221361,  4.07319995]), 46.35830222389619)\n",
      "Текущий результат: (0.0053, array([46.36024679,  4.07171656]), 46.350740392093755)\n",
      "Текущий результат: (0.0054, array([46.36604276,  4.07064629]), 46.34534986472552)\n",
      "Текущий результат: (0.0055, array([46.37457743,  4.0690703 ]), 46.337435083154915)\n",
      "Текущий результат: (0.0056, array([46.38107861,  4.06786981]), 46.33147667156136)\n",
      "Текущий результат: (0.0057, array([46.39060845,  4.06611005]), 46.32278351119827)\n",
      "Текущий результат: (0.0058, array([46.39829508,  4.06469066]), 46.315856389369806)\n",
      "Текущий результат: (0.0059, array([46.40418702,  4.06360267]), 46.310606434136204)\n",
      "Текущий результат: (0.006, array([46.41346073,  4.0618902 ]), 46.30237144910691)\n",
      "Текущий результат: (0.0061, array([46.4211102 ,  4.06047767]), 46.29565979882589)\n",
      "Текущий результат: (0.0062, array([46.42717895,  4.05935703]), 46.29039366464839)\n",
      "Улучшение модели становится незначительным при достижении: \n",
      " alpha=0.0063 \n",
      " Результат: \n",
      " W: [46.4317013   4.05852194] \n",
      " err:46.28651268347478\n"
     ]
    }
   ],
   "source": [
    "\n",
    "err_global_old = 9999999999999999999999999999999\n",
    "for alpha in range (1, 1001, 1): #Перебираю alpha\n",
    "    n = X.shape[1] # Количество наблюдений\n",
    "    err_old = 9999999999999999999999999999999\n",
    "    W = np.array([1, 0.5]) #Веса\n",
    "#     W, alpha\n",
    "    alpha = alpha/10000 #Скорость обучения\n",
    "    for i in range(100000): #Произвожу обучение в цикле\n",
    "        y_pred = np.dot(W, X)\n",
    "        err = calc_mse(y, y_pred) #Смотрю квадратичную ошибку\n",
    "        for ii in range(W.shape[0]):\n",
    "            W[ii] -= alpha * (1/n * 2 * np.sum(X[ii] * (y_pred - y)))\n",
    "    \n",
    "        if (err/err_old > 0.9999):\n",
    "            #Прерываю обучение когда результат начинает изменяться незначительно\n",
    "#             print(f\"Прерываю обучение на параметрах: {alpha, W, err}\")\n",
    "            break;\n",
    "        err_old=err\n",
    "    if (err/err_global_old > 0.9999):\n",
    "        #Прерываю обучение на достигнутом alpha, когда изменение MSE становится незначительным\n",
    "        print(f\"Улучшение модели становится незначительным при достижении: \\n alpha={alpha} \\n Результат: \\n W: {W} \\n err:{err}\")\n",
    "        break;\n",
    "    else:\n",
    "        print(f\"Текущий результат: {alpha, W, err}\")\n",
    "    err_global_old=err\n",
    "    "
   ]
  },
  {
   "cell_type": "markdown",
   "metadata": {
    "colab_type": "text",
    "id": "5Qu1o4JhZYwI"
   },
   "source": [
    "*2. В этом коде мы избавляемся от итераций по весам, но тут есть ошибка, исправьте ее:"
   ]
  },
  {
   "cell_type": "code",
   "execution_count": null,
   "metadata": {},
   "outputs": [],
   "source": []
  },
  {
   "cell_type": "code",
   "execution_count": 32,
   "metadata": {},
   "outputs": [
    {
     "name": "stdout",
     "output_type": "stream",
     "text": [
      "Текущий результат: (0.0001, array([38.33704846,  5.55326151]), 88.48410228286977)\n",
      "Текущий результат: (0.0002, array([42.03339217,  4.87070337]), 60.473739567922834)\n",
      "Текущий результат: (0.0003, array([43.1968407,  4.6558637]), 54.697347536400684)\n",
      "Текущий результат: (0.0004, array([43.81762131,  4.54123181]), 52.21077735874286)\n",
      "Текущий результат: (0.0005, array([44.22022144,  4.46688862]), 50.81966443959937)\n",
      "Текущий результат: (0.0006, array([44.50709891,  4.4139145 ]), 49.9347611107609)\n",
      "Текущий результат: (0.0007, array([44.72504204,  4.37366963]), 49.32164893554183)\n",
      "Текущий результат: (0.0008, array([44.89903045,  4.34154134]), 48.868849361730355)\n",
      "Текущий результат: (0.0009, array([45.04008168,  4.31549515]), 48.52566519052989)\n",
      "Текущий результат: (0.001, array([45.15929201,  4.29348205]), 48.25229833675777)\n",
      "Текущий результат: (0.0011, array([45.26180794,  4.2745517 ]), 48.029432050382574)\n",
      "Текущий результат: (0.0012, array([45.34949531,  4.25835956]), 47.84777517862378)\n",
      "Текущий результат: (0.0013, array([45.42541055,  4.24434123]), 47.69718908748659)\n",
      "Текущий результат: (0.0014, array([45.49465998,  4.23155379]), 47.56522049173387)\n",
      "Текущий результат: (0.0015, array([45.55621212,  4.22018772]), 47.452251344206026)\n",
      "Текущий результат: (0.0016, array([45.61120999,  4.21003194]), 47.354760646798546)\n",
      "Текущий результат: (0.0017, array([45.66146897,  4.20075123]), 47.26851267014596)\n",
      "Текущий результат: (0.0018, array([45.70732074,  4.19228435]), 47.192197360494895)\n",
      "Текущий результат: (0.0019, array([45.74782729,  4.18480451]), 47.1266690404265)\n",
      "Текущий результат: (0.002, array([45.78696103,  4.17757816]), 47.06502606006779)\n",
      "Текущий результат: (0.0021, array([45.8252134 ,  4.17051457]), 47.00634998742432)\n",
      "Текущий результат: (0.0022, array([45.85616919,  4.16479835]), 46.96004605260566)\n",
      "Текущий результат: (0.0023, array([45.88840684,  4.15884542]), 46.91289623460444)\n",
      "Текущий результат: (0.0024, array([45.91770477,  4.15343533]), 46.87102072460925)\n",
      "Текущий результат: (0.0025, array([45.94583129,  4.14824156]), 46.831683370560754)\n",
      "Текущий результат: (0.0026, array([45.97099745,  4.14359443]), 46.79721621134503)\n",
      "Текущий результат: (0.0027, array([45.99451454,  4.13925182]), 46.76562487340601)\n",
      "Текущий результат: (0.0028, array([46.01759549,  4.13498975]), 46.735191275339595)\n",
      "Текущий результат: (0.0029, array([46.04136488,  4.13060055]), 46.7044341894467)\n",
      "Текущий результат: (0.003, array([46.05955391,  4.1272418 ]), 46.68133856834821)\n",
      "Текущий результат: (0.0031, array([46.08022952,  4.1234239 ]), 46.655488215733385)\n",
      "Текущий результат: (0.0032, array([46.10054267,  4.11967292]), 46.63053366607499)\n",
      "Текущий результат: (0.0033, array([46.11736909,  4.11656579]), 46.61021702052523)\n",
      "Текущий результат: (0.0034, array([46.13509034,  4.11329343]), 46.589135002922035)\n",
      "Текущий результат: (0.0035, array([46.15039282,  4.11046771]), 46.571215083800894)\n",
      "Текущий результат: (0.0036, array([46.16370406,  4.10800968]), 46.555844002966225)\n",
      "Текущий результат: (0.0037, array([46.1794881 ,  4.10509504]), 46.537834667896014)\n",
      "Текущий результат: (0.0038, array([46.19417583,  4.10238284]), 46.52132043670424)\n",
      "Текущий результат: (0.0039, array([46.20812681,  4.09980668]), 46.50585067810623)\n",
      "Текущий результат: (0.004, array([46.22168116,  4.09730377]), 46.49101991861606)\n",
      "Текущий результат: (0.0041, array([46.23516138,  4.09481454]), 46.47646233217121)\n",
      "Текущий результат: (0.0042, array([46.24887309,  4.09228257]), 46.46184884033114)\n",
      "Текущий результат: (0.0043, array([46.2587527 ,  4.09045822]), 46.45147211582567)\n",
      "Текущий результат: (0.0044, array([46.26933712,  4.08850373]), 46.440460317278855)\n",
      "Текущий результат: (0.0045, array([46.28089871,  4.08636879]), 46.4285560989361)\n",
      "Текущий результат: (0.0046, array([46.29369304,  4.08400622]), 46.415535306475675)\n",
      "Текущий результат: (0.0047, array([46.30341701,  4.08221062]), 46.40577791977401)\n",
      "Текущий результат: (0.0048, array([46.31476412,  4.08011529]), 46.39450054785256)\n",
      "Текущий результат: (0.0049, array([46.32332494,  4.07853447]), 46.3861047935664)\n",
      "Текущий результат: (0.005, array([46.3338693 ,  4.07658737]), 46.375847120137124)\n",
      "Текущий результат: (0.0051, array([46.34188252,  4.07510767]), 46.36815130387511)\n",
      "Текущий результат: (0.0052, array([46.35221361,  4.07319995]), 46.35830222389619)\n",
      "Текущий результат: (0.0053, array([46.36024679,  4.07171656]), 46.350740392093755)\n",
      "Текущий результат: (0.0054, array([46.36604276,  4.07064629]), 46.34534986472552)\n",
      "Текущий результат: (0.0055, array([46.37457743,  4.0690703 ]), 46.337435083154915)\n",
      "Текущий результат: (0.0056, array([46.38107861,  4.06786981]), 46.33147667156136)\n",
      "Текущий результат: (0.0057, array([46.39060845,  4.06611005]), 46.32278351119827)\n",
      "Текущий результат: (0.0058, array([46.39829508,  4.06469066]), 46.315856389369806)\n",
      "Текущий результат: (0.0059, array([46.40418702,  4.06360267]), 46.310606434136204)\n",
      "Текущий результат: (0.006, array([46.41346073,  4.0618902 ]), 46.30237144910691)\n",
      "Текущий результат: (0.0061, array([46.4211102 ,  4.06047767]), 46.29565979882589)\n",
      "Текущий результат: (0.0062, array([46.42717895,  4.05935703]), 46.29039366464839)\n",
      "Улучшение модели становится незначительным при достижении: \n",
      " alpha=0.0063 \n",
      " Результат: \n",
      " W: [46.4317013   4.05852194] \n",
      " err:46.28651268347478\n"
     ]
    }
   ],
   "source": [
    "\n",
    "err_global_old = 9999999999999999999999999999999\n",
    "for alpha in range (1, 1001, 1): #Перебираю alpha\n",
    "    n = X.shape[1] # Количество наблюдений\n",
    "    err_old = 9999999999999999999999999999999\n",
    "    W = np.array([1, 0.5]) #Веса\n",
    "#     W, alpha\n",
    "    alpha = alpha/10000 #Скорость обучения\n",
    "    for i in range(100000): #Произвожу обучение в цикле\n",
    "        y_pred = np.dot(W, X)\n",
    "        err = calc_mse(y, y_pred) #Смотрю квадратичную ошибку\n",
    "        for ii in range(W.shape[0]):\n",
    "            W[ii] -= alpha * (1/n * 2 * np.sum(X[ii] * (y_pred - y)))\n",
    "    \n",
    "        if (err/err_old > 0.9999):\n",
    "            #Прерываю обучение когда результат начинает изменяться незначительно\n",
    "#             print(f\"Прерываю обучение на параметрах: {alpha, W, err}\")\n",
    "            break;\n",
    "        err_old=err\n",
    "    if (err/err_global_old > 0.9999):\n",
    "        #Прерываю обучение на достигнутом alpha, когда изменение MSE становится незначительным\n",
    "        print(f\"Улучшение модели становится незначительным при достижении: \\n alpha={alpha} \\n Результат: \\n W: {W} \\n err:{err}\")\n",
    "        break;\n",
    "    else:\n",
    "        print(f\"Текущий результат: {alpha, W, err}\")\n",
    "    err_global_old=err\n",
    "    "
   ]
  },
  {
   "cell_type": "code",
   "execution_count": 66,
   "metadata": {
    "colab": {
     "base_uri": "https://localhost:8080/",
     "height": 185
    },
    "colab_type": "code",
    "id": "WZZzDCQLY4pA",
    "outputId": "28f58ade-72f2-4381-809d-2417752d56e4"
   },
   "outputs": [
    {
     "name": "stdout",
     "output_type": "stream",
     "text": [
      "0 [2.102 3.9  ] 3173.15\n",
      "100 [31.88770806  6.74418155] 175.19445858001853\n",
      "200 [41.83683774  4.90699865] 61.9177717428135\n",
      "300 [45.33508261  4.26102097] 47.913169919666785\n",
      "400 [46.56511152  4.03388672] 46.181755648107604\n",
      "500 [46.99760587  3.95402334] 45.96769776787538\n",
      "600 [47.14967657  3.92594232] 45.941233404700036\n",
      "700 [47.20314662  3.91606866] 45.93796156758051\n",
      "800 [47.2219474   3.91259695] 45.93755706443538\n",
      "900 [47.228558    3.91137626] 45.937507054979434\n"
     ]
    }
   ],
   "source": [
    "n = X.shape[1]\n",
    "alpha = 0.01\n",
    "W = np.array([1, 0.5])\n",
    "W, alpha\n",
    "for i in range(1000):\n",
    "    y_pred = np.dot(W, X)\n",
    "    err = calc_mse(y, y_pred)\n",
    "#     for ii in range(W.shape[0]):\n",
    "#         W[ii] -= alpha * (1/n * 2 * np.sum(X[ii] * (y_pred - y)))\n",
    "#     print(y_pred - y)\n",
    "#     print(X * (np.array([[y_pred - y], [y_pred - y]])))\n",
    "#     print(np.sum(np.multiply(X, (y_pred - y))))\n",
    "#     W = np.absolute(np.array(W) - np.array([alpha * (1/n * 2 * np.sum(X * (y_pred - y)))])) \n",
    "#     W[0] -= alpha * (1/n * 2 * np.sum(X[0] * (y_pred - y)))\n",
    "#     W[1] -= alpha * (1/n * 2 * np.sum(X[1] * (y_pred - y)))\n",
    "#     W -= [alpha * (1/n * 2 * np.sum(X[0] * (y_pred - y))), alpha * (1/n * 2 * np.sum(X[1] * (y_pred - y)))]\n",
    "#     print(f\"W ={W}\")\n",
    "#     print(f\"y_pred - y ={y_pred - y}\")\n",
    "#     print(f\"X[0] * (y_pred - y) = {X[0] * (y_pred - y)}\")\n",
    "#     print(f\"X[1] * (y_pred - y) = {X[1] * (y_pred - y)}\")\n",
    "#     print(f\"X * (y_pred - y) = {X * (y_pred - y)}\")\n",
    "#     print(f\"np.sum(alpha * (1/n * 2 * X[0] * (y_pred - y))) = {alpha * (1/n * 2 * np.sum(X[0] * (y_pred - y)))}\")\n",
    "#     print(f\"np.sum(alpha * (1/n * 2 * X[1] * (y_pred - y))) = {alpha * (1/n * 2 * np.sum(X[1] * (y_pred - y)))}\")\n",
    "#     print(f\"np.sum(alpha * (1/n * 2 * X * (y_pred - y))) = {alpha * (1/n * 2 * np.sum(X * (y_pred - y)))}\")\n",
    "#     print(f\"W[0] -= alpha * (1/n * 2 * np.sum(X[0] * (y_pred - y))) = {W[0] - alpha * (1/n * 2 * np.sum(X[0] * (y_pred - y)))}\")\n",
    "#     print(f\"W[1] -= alpha * (1/n * 2 * np.sum(X[1] * (y_pred - y))) = {W[1] - alpha * (1/n * 2 * np.sum(X[1] * (y_pred - y)))}\")\n",
    "#     print(f\"W -= alpha * (1/n * 2 * np.sum(X * (y_pred - y))) = {W - np.full(len(W),alpha * (1/n * 2 * np.sum(X * (y_pred - y))))}\")\n",
    "#     print(f\"2={W-np.array([alpha * (1/n * 2 * np.sum(X[0] * (y_pred - y))),alpha * (1/n * 2 * np.sum(X[1] * (y_pred - y)))])}\")\n",
    "#     W -= np.full(len(W),alpha * (1/n * 2 * np.sum(X * (y_pred - y))))\n",
    "#     W = np.absolute(np.array(W) - np.array([alpha * (1/n * 2 * np.sum(X * (y_pred - y)))])) \n",
    "#     print(i, W, err)\n",
    "#     print(f\"1/n={1/n}\")\n",
    "#     print(f\"X={X}\")\n",
    "#     print(y_pred, y)\n",
    "#     W -= 10\n",
    "\n",
    "# После ОЧЕНЬ долгих и потных попыток найти ошибку :)\n",
    "    W -= alpha * (1/n * 2 * np.sum(X * (y_pred - y), axis = 1))\n",
    "\n",
    "\n",
    "\n",
    "    if i % 100 == 0:\n",
    "        print(i, W, err)\n",
    "#         break;"
   ]
  },
  {
   "cell_type": "code",
   "execution_count": null,
   "metadata": {
    "colab": {},
    "colab_type": "code",
    "id": "_OQ4arrXMYGb"
   },
   "outputs": [],
   "source": []
  },
  {
   "cell_type": "code",
   "execution_count": null,
   "metadata": {
    "colab": {},
    "colab_type": "code",
    "id": "kGLyytFgHdco"
   },
   "outputs": [],
   "source": []
  }
 ],
 "metadata": {
  "colab": {
   "collapsed_sections": [],
   "name": "Lesson1.ipynb",
   "provenance": []
  },
  "kernelspec": {
   "display_name": "Python 3",
   "language": "python",
   "name": "python3"
  },
  "language_info": {
   "codemirror_mode": {
    "name": "ipython",
    "version": 3
   },
   "file_extension": ".py",
   "mimetype": "text/x-python",
   "name": "python",
   "nbconvert_exporter": "python",
   "pygments_lexer": "ipython3",
   "version": "3.7.3"
  },
  "toc": {
   "base_numbering": 1,
   "nav_menu": {},
   "number_sections": true,
   "sideBar": true,
   "skip_h1_title": false,
   "title_cell": "Table of Contents",
   "title_sidebar": "Contents",
   "toc_cell": false,
   "toc_position": {},
   "toc_section_display": true,
   "toc_window_display": false
  }
 },
 "nbformat": 4,
 "nbformat_minor": 1
}
