{
 "cells": [
  {
   "cell_type": "code",
   "execution_count": 79,
   "metadata": {},
   "outputs": [],
   "source": [
    "import numpy as np\n",
    "from sklearn.metrics import r2_score\n",
    "import matplotlib.pyplot as plt\n",
    "import random"
   ]
  },
  {
   "cell_type": "code",
   "execution_count": 80,
   "metadata": {},
   "outputs": [
    {
     "data": {
      "text/plain": [
       "((442, 10), (442,))"
      ]
     },
     "execution_count": 80,
     "metadata": {},
     "output_type": "execute_result"
    }
   ],
   "source": [
    "from sklearn.datasets import load_diabetes\n",
    "regression_data, regression_labels = load_diabetes(return_X_y=True)\n",
    "regression_data.shape, regression_labels.shape"
   ]
  },
  {
   "cell_type": "code",
   "execution_count": 81,
   "metadata": {},
   "outputs": [],
   "source": [
    "# regression_data[0]"
   ]
  },
  {
   "cell_type": "code",
   "execution_count": 82,
   "metadata": {},
   "outputs": [],
   "source": [
    "class regression_Node:\n",
    "    \n",
    "    def __init__(self, index, t, true_branch, false_branch):\n",
    "        self.index = index  # индекс признака, по которому ведется сравнение с порогом в этом узле\n",
    "        self.t = t  # значение порога\n",
    "        self.true_branch = true_branch  # поддерево, удовлетворяющее условию в узле\n",
    "        self.false_branch = false_branch  # поддерево, не удовлетворяющее условию в узле"
   ]
  },
  {
   "cell_type": "code",
   "execution_count": 83,
   "metadata": {},
   "outputs": [],
   "source": [
    "class regression_Leaf:\n",
    "    \n",
    "    def __init__(self, data, labels):\n",
    "        self.data = data\n",
    "        self.labels = labels\n",
    "        self.prediction = self.predict()\n",
    "        \n",
    "    def predict(self):\n",
    "#         prediction = (1/len(self.labels))*sum(self.labels)\n",
    "        prediction = sum(self.labels)/len(self.labels)\n",
    "        return prediction   "
   ]
  },
  {
   "cell_type": "code",
   "execution_count": 84,
   "metadata": {},
   "outputs": [],
   "source": [
    "def regression_avg(labels):\n",
    "#     print(f\"labels = {labels}\")\n",
    "#     print(f\"result = {sum(sum(labels))}\")\n",
    "    return sum(labels)/len(labels)"
   ]
  },
  {
   "cell_type": "code",
   "execution_count": 85,
   "metadata": {},
   "outputs": [
    {
     "data": {
      "text/plain": [
       "10.916666666666666"
      ]
     },
     "execution_count": 85,
     "metadata": {},
     "output_type": "execute_result"
    }
   ],
   "source": [
    "def regression_disp(labels):\n",
    "    avg_labels = regression_avg(labels)\n",
    "    return sum((np.array(labels)-avg_labels)**2)/(len(labels)-1)\n",
    "regression_disp([4,8,2,9])"
   ]
  },
  {
   "cell_type": "code",
   "execution_count": 86,
   "metadata": {},
   "outputs": [],
   "source": [
    "def regression_H(labels):\n",
    "    \n",
    "#     print(labels)\n",
    "#     print(avg_labels)\n",
    "#     return sum((np.array(labels)-avg_labels)**2)/(len(labels)-1)\n",
    "#     return (1/len(labels))*regression_disp(labels)\n",
    "    return regression_disp(labels)\n",
    "# regression_H([4,8,2,9])"
   ]
  },
  {
   "cell_type": "code",
   "execution_count": 87,
   "metadata": {},
   "outputs": [],
   "source": [
    "def regression_quality(left_labels, right_labels, current_quality):\n",
    "    #Расчёт критерия информативности\n",
    "    #Q(X_m,j,t)\n",
    "#     print(left_labels)\n",
    "    p=float(left_labels.shape[0])/(left_labels.shape[0]+right_labels.shape[0])\n",
    "    return current_quality - p*regression_H(left_labels) - (1-p)*regression_H(right_labels)"
   ]
  },
  {
   "cell_type": "code",
   "execution_count": 88,
   "metadata": {},
   "outputs": [],
   "source": [
    "def regression_split(data, labels, index, t):\n",
    "#     print(f\"входные data = {data}\")\n",
    "#     print(f\"входные labels = {labels}\")\n",
    "#     print(f\"index = {index}\")\n",
    "#     print(f\"t = {t}\")\n",
    "    left = np.where(data[:, index] <= t)\n",
    "#     print(f\"split . left = {left}\")\n",
    "    right = np.where(data[:, index] > t)\n",
    "#     print(f\"split . right = {right}\")\n",
    "    true_data = data[left]\n",
    "    false_data = data[right]\n",
    "    true_labels = labels[left]\n",
    "    false_labels = labels[right]\n",
    "#     print(f\"true_data={true_data}\")\n",
    "#     print(f\"true_labels={true_labels}\")\n",
    "        \n",
    "    return true_data, false_data, true_labels, false_labels"
   ]
  },
  {
   "cell_type": "code",
   "execution_count": 89,
   "metadata": {
    "scrolled": true
   },
   "outputs": [],
   "source": [
    "def regression_find_best_split(data, labels, min_leaf, max_leaf):\n",
    "    #  обозначим минимальное количество объектов в узле\n",
    "    # Прежде чем искать лучшее разбиение, мы определяем его текущее состояние\n",
    "    # Что такое лучшее разбиение?\n",
    "    current_disp= regression_H(labels)\n",
    "#     current_quality = 0\n",
    "#     print(f\"Первичный расчёт квалити: {current_quality}\")\n",
    "    best_quality = 0\n",
    "    best_t = None\n",
    "    best_index = None\n",
    "    n_features = [0,1,2,3,5,6,7,8,9]\n",
    "    for index in n_features: \n",
    "        t_values = np.unique([row[index] for row in data])\n",
    "        \n",
    "#         print(f\"/    Текущий index: {index}\")\n",
    "        for t in t_values: \n",
    "            #Перебираем все значение в t_values, используя их как разделители для дерева\n",
    "            true_data, false_data, true_labels, false_labels = regression_split(data, labels, index, t)\n",
    "            #  пропускаем разбиения, в которых в узле остается менее 5 объектов\n",
    "            if len(true_data) < min_leaf or len(false_data) < min_leaf:\n",
    "#                 print(f\"/        НЕ Достигнут лимит min_leaf={min_leaf}\")\n",
    "                continue\n",
    "            if len(true_data) > max_leaf or len(false_data) > max_leaf:\n",
    "#                 print(f\"/        Достигнут лимит max_leaf={max_leaf}\")\n",
    "                continue\n",
    "\n",
    "            current_quality = regression_quality(true_labels, false_labels, current_disp)\n",
    "#             print(f\"/        current_quality = {current_quality}\")\n",
    "                #  выбираем порог, на котором получается максимальный прирост качества\n",
    "            if current_quality > best_quality:\n",
    "#                 print(f\"/        new current_quality({current_quality}) > best_quality({best_quality})\")\n",
    "                best_quality, best_t, best_index = current_quality, t, index\n",
    "\n",
    "    return best_quality, best_t, best_index\n",
    "# regression_find_best_split(regression_data, regression_labels, max_leaf=400)"
   ]
  },
  {
   "cell_type": "markdown",
   "metadata": {},
   "source": [
    "np.where(regression_data[:, 0] <= -0.107225631607358)"
   ]
  },
  {
   "cell_type": "markdown",
   "metadata": {},
   "source": [
    "qw = np.where(regression_data[:, 0] <= -0.107225631607358)"
   ]
  },
  {
   "cell_type": "markdown",
   "metadata": {},
   "source": [
    "qw[0][0]\n",
    "    "
   ]
  },
  {
   "cell_type": "code",
   "execution_count": 90,
   "metadata": {},
   "outputs": [],
   "source": [
    "def regression_build_tree(data, labels, min_leaf, max_leaf):\n",
    "    quality, t, index = regression_find_best_split(data, labels, min_leaf, max_leaf)\n",
    "#     print(f\"regression_build_tree: quality, t, index = {quality, t, index}\")\n",
    "    #  Базовый случай - прекращаем рекурсию, когда нет прироста в качества\n",
    "    if quality == 0: \n",
    "#         print(f\"/    Строю лист из следующих данных\")\n",
    "#         print(f\"/    возвратные data = {data}\")\n",
    "#         print(f\"/    возвратные labels = {labels}\")\n",
    "        return regression_Leaf(data, labels) #Формируем лист из полученных data и labels,\n",
    "        #иначе\n",
    "    \n",
    "    #разбиваем текущее содержимое data и labels с помощью index и t, найденных функцией find_best_split\n",
    "#     print(f\"/    regression_split(data, labels, {index}, {t})\")\n",
    "    true_data, false_data, true_labels, false_labels = regression_split(data, labels, index, t)\n",
    "    \n",
    "    # Рекурсивно строим два поддерева\n",
    "    true_branch = regression_build_tree(true_data, true_labels, min_leaf, max_leaf)\n",
    "    false_branch = regression_build_tree(false_data, false_labels, min_leaf, max_leaf)\n",
    "    \n",
    "    # Возвращаем класс узла со всеми поддеревьями, то есть целого дерева\n",
    "#     print(\"Конец функции build_tree\")\n",
    "    return regression_Node(index, t, true_branch, false_branch)"
   ]
  },
  {
   "cell_type": "code",
   "execution_count": null,
   "metadata": {},
   "outputs": [],
   "source": []
  },
  {
   "cell_type": "code",
   "execution_count": 91,
   "metadata": {},
   "outputs": [],
   "source": [
    "def regression_predict_something(obj, node):\n",
    "#     print(f\"regression_predict_something\")\n",
    "#     print(f\"    Получено на вход obj = {obj}\")\n",
    "#     print(f\"    Получено на вход node = {node}\")\n",
    "    #  Останавливаем рекурсию, если достигли листа\n",
    "    if isinstance(node, regression_Leaf):\n",
    "#         print(f\"        node={node}\")\n",
    "#         print(f\"regression_Leaf={regression_Leaf.keys}\")\n",
    "        answer = node.prediction\n",
    "#         print(f\"        Ответ:{answer}\")\n",
    "        return answer\n",
    "    \n",
    "#     print(f\"    node.t={node.t}\")\n",
    "#     print(f\"    regression_Leaf={regression_Leaf}\")\n",
    "    \n",
    "    if obj[node.index] <= node.t:\n",
    "        return regression_predict_something(obj, node.true_branch)\n",
    "    else:\n",
    "        return regression_predict_something(obj, node.false_branch)"
   ]
  },
  {
   "cell_type": "code",
   "execution_count": 92,
   "metadata": {},
   "outputs": [],
   "source": [
    "def regression_predict(data, tree):\n",
    "#     print(data)\n",
    "    \n",
    "    classes = []\n",
    "    for obj in data:\n",
    "        prediction = regression_predict_something(obj, tree)\n",
    "        classes.append(prediction)\n",
    "    return classes"
   ]
  },
  {
   "cell_type": "code",
   "execution_count": 93,
   "metadata": {},
   "outputs": [],
   "source": [
    "# Разобьем выборку на обучающую и тестовую\n",
    "\n",
    "from sklearn import model_selection\n",
    "\n",
    "train_data, test_data, train_labels, test_labels = model_selection.train_test_split(regression_data, \n",
    "                                                                                     regression_labels, \n",
    "                                                                                     test_size = 0.3,\n",
    "                                                                                     random_state = 42)\n",
    "# classification_labels"
   ]
  },
  {
   "cell_type": "code",
   "execution_count": 94,
   "metadata": {},
   "outputs": [],
   "source": [
    "my_regression_tree = regression_build_tree(train_data, train_labels, min_leaf=5, max_leaf=400)"
   ]
  },
  {
   "cell_type": "code",
   "execution_count": 95,
   "metadata": {},
   "outputs": [
    {
     "name": "stdout",
     "output_type": "stream",
     "text": [
      "Индекс 2\n",
      "Порог 0.00457216660300077\n",
      "--> True:\n",
      "  Индекс 8\n",
      "  Порог 0.0133159679089277\n",
      "  --> True:\n",
      "    Индекс 8\n",
      "    Порог -0.0439854025655911\n",
      "    --> True:\n",
      "      Индекс 5\n",
      "      Порог -0.0248000120604336\n",
      "      --> True:\n",
      "        Индекс 3\n",
      "        Порог -0.0538708002672419\n",
      "        --> True:\n",
      "          Прогноз: 61.714285714285715\n",
      "        --> False:\n",
      "          Индекс 1\n",
      "          Порог -0.044641636506989\n",
      "          --> True:\n",
      "            Индекс 5\n",
      "            Порог -0.0686407967109681\n",
      "            --> True:\n",
      "              Прогноз: 96.4\n",
      "            --> False:\n",
      "              Прогноз: 146.8\n",
      "          --> False:\n",
      "            Индекс 8\n",
      "            Порог -0.0781409106690696\n",
      "            --> True:\n",
      "              Прогноз: 61.4\n",
      "            --> False:\n",
      "              Прогноз: 88.16666666666667\n",
      "      --> False:\n",
      "        Индекс 6\n",
      "        Порог 0.0302319104297145\n",
      "        --> True:\n",
      "          Прогноз: 47.833333333333336\n",
      "        --> False:\n",
      "          Прогноз: 68.125\n",
      "    --> False:\n",
      "      Индекс 6\n",
      "      Порог 0.0228686348215404\n",
      "      --> True:\n",
      "        Индекс 3\n",
      "        Порог 0.0322009670761646\n",
      "        --> True:\n",
      "          Индекс 0\n",
      "          Порог -0.0491050163910452\n",
      "          --> True:\n",
      "            Индекс 2\n",
      "            Порог -0.0460850008694016\n",
      "            --> True:\n",
      "              Прогноз: 105.16666666666667\n",
      "            --> False:\n",
      "              Прогноз: 174.77777777777777\n",
      "          --> False:\n",
      "            Индекс 0\n",
      "            Порог 0.0235457526293458\n",
      "            --> True:\n",
      "              Индекс 6\n",
      "              Порог -0.0286742944356786\n",
      "              --> True:\n",
      "                Прогноз: 140.8\n",
      "              --> False:\n",
      "                Индекс 5\n",
      "                Порог 0.0046359433477825\n",
      "                --> True:\n",
      "                  Индекс 8\n",
      "                  Порог -0.02139368094036\n",
      "                  --> True:\n",
      "                    Прогноз: 52.6\n",
      "                  --> False:\n",
      "                    Прогноз: 81.2\n",
      "                --> False:\n",
      "                  Прогноз: 98.875\n",
      "            --> False:\n",
      "              Индекс 3\n",
      "              Порог -0.015999222636143\n",
      "              --> True:\n",
      "                Индекс 5\n",
      "                Порог -0.0241737151368545\n",
      "                --> True:\n",
      "                  Прогноз: 137.6\n",
      "                --> False:\n",
      "                  Прогноз: 99.2\n",
      "              --> False:\n",
      "                Прогноз: 168.6\n",
      "        --> False:\n",
      "          Прогноз: 173.5\n",
      "      --> False:\n",
      "        Индекс 0\n",
      "        Порог 0.00175052192322852\n",
      "        --> True:\n",
      "          Индекс 3\n",
      "          Порог -0.0297707054110881\n",
      "          --> True:\n",
      "            Прогноз: 50.8\n",
      "          --> False:\n",
      "            Индекс 0\n",
      "            Порог -0.0454724779400257\n",
      "            --> True:\n",
      "              Прогноз: 95.0\n",
      "            --> False:\n",
      "              Прогноз: 64.0\n",
      "        --> False:\n",
      "          Индекс 3\n",
      "          Порог -0.0228849640236156\n",
      "          --> True:\n",
      "            Прогноз: 79.5\n",
      "          --> False:\n",
      "            Индекс 3\n",
      "            Порог -0.00567061055493425\n",
      "            --> True:\n",
      "              Прогноз: 142.4\n",
      "            --> False:\n",
      "              Прогноз: 104.14285714285714\n",
      "  --> False:\n",
      "    Индекс 3\n",
      "    Порог -0.0332135761048244\n",
      "    --> True:\n",
      "      Индекс 6\n",
      "      Порог -0.0397192078479398\n",
      "      --> True:\n",
      "        Прогноз: 128.2\n",
      "      --> False:\n",
      "        Прогноз: 99.8\n",
      "    --> False:\n",
      "      Индекс 2\n",
      "      Порог -0.0245287593917836\n",
      "      --> True:\n",
      "        Индекс 8\n",
      "        Порог 0.024052583226893\n",
      "        --> True:\n",
      "          Прогноз: 90.4\n",
      "        --> False:\n",
      "          Прогноз: 176.25\n",
      "      --> False:\n",
      "        Индекс 7\n",
      "        Порог 0.0343088588777263\n",
      "        --> True:\n",
      "          Индекс 0\n",
      "          Порог -0.00551455497881059\n",
      "          --> True:\n",
      "            Прогноз: 143.83333333333334\n",
      "          --> False:\n",
      "            Индекс 8\n",
      "            Порог 0.028016506523264\n",
      "            --> True:\n",
      "              Прогноз: 246.0\n",
      "            --> False:\n",
      "              Прогноз: 183.5\n",
      "        --> False:\n",
      "          Прогноз: 253.8\n",
      "--> False:\n",
      "  Индекс 2\n",
      "  Порог 0.0724743272574975\n",
      "  --> True:\n",
      "    Индекс 3\n",
      "    Порог 0.00121513083253827\n",
      "    --> True:\n",
      "      Индекс 9\n",
      "      Порог 0.0403433716478807\n",
      "      --> True:\n",
      "        Индекс 2\n",
      "        Порог 0.0304396563761424\n",
      "        --> True:\n",
      "          Индекс 2\n",
      "          Порог 0.0175059114895716\n",
      "          --> True:\n",
      "            Индекс 3\n",
      "            Порог -0.0435421881860331\n",
      "            --> True:\n",
      "              Прогноз: 204.0\n",
      "            --> False:\n",
      "              Прогноз: 114.4\n",
      "          --> False:\n",
      "            Прогноз: 221.57142857142858\n",
      "        --> False:\n",
      "          Индекс 3\n",
      "          Порог -0.0332135761048244\n",
      "          --> True:\n",
      "            Индекс 0\n",
      "            Порог -0.0236772472339084\n",
      "            --> True:\n",
      "              Прогноз: 79.0\n",
      "            --> False:\n",
      "              Прогноз: 119.8\n",
      "          --> False:\n",
      "            Прогноз: 145.88888888888889\n",
      "      --> False:\n",
      "        Прогноз: 225.5\n",
      "    --> False:\n",
      "      Индекс 8\n",
      "      Порог 0.0634559213720654\n",
      "      --> True:\n",
      "        Индекс 6\n",
      "        Порог -0.0470824834561139\n",
      "        --> True:\n",
      "          Прогноз: 245.16666666666666\n",
      "        --> False:\n",
      "          Индекс 5\n",
      "          Порог 0.0472241341511589\n",
      "          --> True:\n",
      "            Индекс 8\n",
      "            Порог 0.00943640914607987\n",
      "            --> True:\n",
      "              Индекс 9\n",
      "              Порог -0.0093619113301358\n",
      "              --> True:\n",
      "                Прогноз: 234.4\n",
      "              --> False:\n",
      "                Прогноз: 145.11111111111111\n",
      "            --> False:\n",
      "              Индекс 9\n",
      "              Порог 0.0320591578182113\n",
      "              --> True:\n",
      "                Индекс 7\n",
      "                Порог -0.00259226199818282\n",
      "                --> True:\n",
      "                  Прогноз: 216.0\n",
      "                --> False:\n",
      "                  Прогноз: 179.2\n",
      "              --> False:\n",
      "                Прогноз: 269.4\n",
      "          --> False:\n",
      "            Прогноз: 155.0\n",
      "      --> False:\n",
      "        Индекс 2\n",
      "        Порог 0.056307146149284\n",
      "        --> True:\n",
      "          Прогноз: 267.85714285714283\n",
      "        --> False:\n",
      "          Прогноз: 233.42857142857142\n",
      "  --> False:\n",
      "    Индекс 5\n",
      "    Порог 0.0215459602844172\n",
      "    --> True:\n",
      "      Индекс 7\n",
      "      Порог 0.0206554441536399\n",
      "      --> True:\n",
      "        Индекс 1\n",
      "        Порог -0.044641636506989\n",
      "        --> True:\n",
      "          Прогноз: 264.1666666666667\n",
      "        --> False:\n",
      "          Прогноз: 295.0\n",
      "      --> False:\n",
      "        Прогноз: 318.6666666666667\n",
      "    --> False:\n",
      "      Прогноз: 225.75\n"
     ]
    }
   ],
   "source": [
    "# Напечатаем ход нашего дерева\n",
    "def print_tree(node, spacing=\"\"):\n",
    "\n",
    "    # Если лист, то выводим его прогноз\n",
    "    if isinstance(node, regression_Leaf):\n",
    "        print(spacing + \"Прогноз:\", node.prediction)\n",
    "        return\n",
    "\n",
    "    # Выведем значение индекса и порога на этом узле\n",
    "    print(spacing + 'Индекс', str(node.index))\n",
    "    print(spacing + 'Порог', str(node.t))\n",
    "\n",
    "    # Рекурсионный вызов функции на положительном поддереве\n",
    "    print (spacing + '--> True:')\n",
    "    print_tree(node.true_branch, spacing + \"  \")\n",
    "\n",
    "    # Рекурсионный вызов функции на положительном поддереве\n",
    "    print (spacing + '--> False:')\n",
    "    print_tree(node.false_branch, spacing + \"  \")\n",
    "    \n",
    "print_tree(my_regression_tree)"
   ]
  },
  {
   "cell_type": "code",
   "execution_count": 96,
   "metadata": {},
   "outputs": [],
   "source": [
    "# Получим ответы для обучающей выборки \n",
    "train_answers = regression_predict(train_data, my_regression_tree)\n",
    "# [-0.14312642 -0.22418983] -2.72879581"
   ]
  },
  {
   "cell_type": "code",
   "execution_count": 97,
   "metadata": {},
   "outputs": [],
   "source": [
    "# И получим ответы для тестовой выборки\n",
    "answers = regression_predict(test_data, my_regression_tree)"
   ]
  },
  {
   "cell_type": "code",
   "execution_count": 98,
   "metadata": {},
   "outputs": [
    {
     "data": {
      "text/plain": [
       "0.8119276248623002"
      ]
     },
     "execution_count": 98,
     "metadata": {},
     "output_type": "execute_result"
    }
   ],
   "source": [
    "train_accuracy = r2_score(train_labels, train_answers)\n",
    "train_accuracy"
   ]
  },
  {
   "cell_type": "code",
   "execution_count": 99,
   "metadata": {},
   "outputs": [
    {
     "data": {
      "text/plain": [
       "0.20990178426289863"
      ]
     },
     "execution_count": 99,
     "metadata": {},
     "output_type": "execute_result"
    }
   ],
   "source": [
    "test_accuracy = r2_score(test_labels, answers)\n",
    "test_accuracy"
   ]
  },
  {
   "cell_type": "code",
   "execution_count": null,
   "metadata": {},
   "outputs": [],
   "source": []
  },
  {
   "cell_type": "code",
   "execution_count": 100,
   "metadata": {},
   "outputs": [
    {
     "data": {
      "text/plain": [
       "array([219.,  70., 202., 230., 111.,  84., 242., 272.,  94.,  96.,  94.,\n",
       "       252.,  99., 297., 135.,  67., 295., 264., 170., 275., 310.,  64.,\n",
       "       128., 232., 129., 118., 263.,  77.,  48., 107., 140., 113.,  90.,\n",
       "       164., 180., 233.,  42.,  84., 172.,  63.,  48., 108., 156., 168.,\n",
       "        90.,  52., 200.,  87.,  90., 258., 136., 158.,  69.,  72., 171.,\n",
       "        95.,  72., 151., 168.,  60., 122.,  52., 187., 102., 214., 248.,\n",
       "       181., 110., 140., 202., 101., 222., 281.,  61.,  89.,  91., 186.,\n",
       "       220., 237., 233.,  68., 190.,  96.,  72., 153.,  98.,  37.,  63.,\n",
       "       184., 144., 150., 280., 125.,  59.,  65., 281., 277., 167.,  90.,\n",
       "        72., 178.,  88., 270., 101., 197.,  97.,  53.,  71., 262.,  52.,\n",
       "       102., 166., 189., 173., 220., 206.,  97.,  60.,  61., 242., 121.,\n",
       "       128., 104., 265., 132., 283., 174., 129., 257., 137.,  63.,  93.,\n",
       "       232.])"
      ]
     },
     "execution_count": 100,
     "metadata": {},
     "output_type": "execute_result"
    }
   ],
   "source": [
    "test_labels"
   ]
  },
  {
   "cell_type": "code",
   "execution_count": 101,
   "metadata": {},
   "outputs": [
    {
     "data": {
      "text/plain": [
       "array([183.5       , 234.4       , 183.5       , 267.85714286,\n",
       "        98.875     ,  79.5       , 225.75      , 267.85714286,\n",
       "        99.8       , 114.4       ,  64.        , 176.25      ,\n",
       "       146.8       , 245.16666667,  81.2       , 114.4       ,\n",
       "       233.42857143, 225.75      , 245.16666667, 179.2       ,\n",
       "        79.        ,  79.5       ,  68.125     , 216.        ,\n",
       "       145.88888889, 145.11111111, 234.4       , 173.5       ,\n",
       "       146.8       ,  98.875     , 225.75      ,  47.83333333,\n",
       "       204.        , 183.5       , 119.8       , 225.75      ,\n",
       "        81.2       ,  98.875     ,  90.4       ,  68.125     ,\n",
       "        68.125     , 104.14285714, 168.6       ,  90.4       ,\n",
       "       176.25      ,  68.125     ,  61.71428571, 104.14285714,\n",
       "       146.8       , 143.83333333, 119.8       ,  47.83333333,\n",
       "       114.4       , 142.4       , 253.8       , 145.88888889,\n",
       "        50.8       , 216.        ,  50.8       ,  50.8       ,\n",
       "       221.57142857, 145.88888889, 145.88888889, 104.14285714,\n",
       "       140.8       , 216.        , 253.8       , 176.25      ,\n",
       "       174.77777778, 128.2       , 143.83333333, 155.        ,\n",
       "       253.8       , 174.77777778,  68.125     ,  90.4       ,\n",
       "       155.        , 145.88888889, 145.11111111, 253.8       ,\n",
       "        47.83333333, 174.77777778,  50.8       ,  68.125     ,\n",
       "        64.        , 146.8       ,  96.4       ,  61.71428571,\n",
       "       145.88888889, 155.        , 140.8       , 216.        ,\n",
       "       146.8       ,  50.8       ,  61.71428571, 269.4       ,\n",
       "       233.42857143, 119.8       ,  95.        ,  68.125     ,\n",
       "       216.        ,  88.16666667, 318.66666667, 105.16666667,\n",
       "       221.57142857,  95.        , 168.6       , 173.5       ,\n",
       "       225.5       , 234.4       ,  99.2       , 216.        ,\n",
       "       176.25      , 225.5       , 114.4       ,  99.8       ,\n",
       "       140.8       , 174.77777778,  96.4       , 114.4       ,\n",
       "       234.4       ,  98.875     ,  61.4       , 216.        ,\n",
       "        47.83333333, 183.5       , 204.        , 140.8       ,\n",
       "       173.5       ,  95.        , 173.5       ,  79.5       ,\n",
       "       245.16666667])"
      ]
     },
     "execution_count": 101,
     "metadata": {},
     "output_type": "execute_result"
    }
   ],
   "source": [
    "np.array(answers)"
   ]
  },
  {
   "cell_type": "code",
   "execution_count": null,
   "metadata": {},
   "outputs": [],
   "source": []
  },
  {
   "cell_type": "code",
   "execution_count": null,
   "metadata": {},
   "outputs": [],
   "source": []
  },
  {
   "cell_type": "code",
   "execution_count": null,
   "metadata": {},
   "outputs": [],
   "source": []
  },
  {
   "cell_type": "code",
   "execution_count": null,
   "metadata": {},
   "outputs": [],
   "source": []
  }
 ],
 "metadata": {
  "kernelspec": {
   "display_name": "Python 3",
   "language": "python",
   "name": "python3"
  },
  "language_info": {
   "codemirror_mode": {
    "name": "ipython",
    "version": 3
   },
   "file_extension": ".py",
   "mimetype": "text/x-python",
   "name": "python",
   "nbconvert_exporter": "python",
   "pygments_lexer": "ipython3",
   "version": "3.7.3"
  },
  "toc": {
   "base_numbering": 1,
   "nav_menu": {},
   "number_sections": true,
   "sideBar": true,
   "skip_h1_title": false,
   "title_cell": "Table of Contents",
   "title_sidebar": "Contents",
   "toc_cell": false,
   "toc_position": {},
   "toc_section_display": true,
   "toc_window_display": false
  }
 },
 "nbformat": 4,
 "nbformat_minor": 2
}
